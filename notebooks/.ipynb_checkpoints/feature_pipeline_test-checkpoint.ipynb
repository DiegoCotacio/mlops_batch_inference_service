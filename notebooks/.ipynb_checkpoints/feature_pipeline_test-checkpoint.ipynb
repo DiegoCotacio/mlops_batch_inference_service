{
 "cells": [
  {
   "cell_type": "code",
   "execution_count": 5,
   "metadata": {},
   "outputs": [],
   "source": [
    "import pandas as pd\n",
    "import random\n",
    "import numpy as np\n",
    "import datetime"
   ]
  },
  {
   "cell_type": "code",
   "execution_count": 8,
   "metadata": {},
   "outputs": [],
   "source": [
    "def generate_dataframe():\n",
    "    # Configuración de las variables\n",
    "    num_rows = 10\n",
    "\n",
    "    numeric_variables = {\n",
    "        'age': {'min': 20, 'mean': 35, 'max': 70},\n",
    "        'bmi': {'min': 15.96, 'mean': 30.4, 'max': 53.3},\n",
    "        'children': {'min': 0, 'mean': 1, 'max': 5}}\n",
    "\n",
    "    categorical_variables = {\n",
    "        'smoker': {'classes': ['False', 'True'], 'distribution': [80, 20]},\n",
    "        'region': {'classes': ['southeast', 'southwest','northwest','northeast'], 'distribution': [25, 25, 25, 25]},\n",
    "        'sex': {'classes': ['False', 'True'], 'distribution': [50, 50]}}\n",
    "\n",
    "    # Generación de los datos\n",
    "    data = {}\n",
    "\n",
    "    idies = np.array([str(''.join(random.choices('ABCDEFGHIJKLMNOPQRSTUVWXYZ', k=6)))\n",
    "                 for _ in range(num_rows)])\n",
    "    \n",
    "    data['clienteidentifier'] = idies\n",
    "\n",
    "    current_date = datetime.date.today()\n",
    "    data['fecha_ingreso'] = current_date\n",
    "\n",
    "    for variable, info in categorical_variables.items():\n",
    "        classes = info['classes']\n",
    "        distribution = info['distribution']\n",
    "        data[variable] = np.random.choice(classes, size=num_rows, p=[p/100 for p in distribution])\n",
    "\n",
    "\n",
    "    for variable, info in numeric_variables.items():\n",
    "        min_val = info['min']\n",
    "        mean_val = info['mean']\n",
    "        max_val = info['max']\n",
    "        data[variable] = np.random.normal(loc=mean_val, scale=(max_val - min_val) / 6, size=num_rows)\n",
    "        data[variable] = np.clip(data[variable], min_val, max_val)\n",
    "        \n",
    "    df = pd.DataFrame(data)\n",
    "    \n",
    "    return df\n"
   ]
  },
  {
   "cell_type": "code",
   "execution_count": 9,
   "metadata": {},
   "outputs": [],
   "source": [
    "df = generate_dataframe()"
   ]
  },
  {
   "cell_type": "code",
   "execution_count": null,
   "metadata": {},
   "outputs": [],
   "source": [
    "df"
   ]
  }
 ],
 "metadata": {
  "kernelspec": {
   "display_name": "Python 3 (ipykernel)",
   "language": "python",
   "name": "python3"
  },
  "language_info": {
   "codemirror_mode": {
    "name": "ipython",
    "version": 3
   },
   "file_extension": ".py",
   "mimetype": "text/x-python",
   "name": "python",
   "nbconvert_exporter": "python",
   "pygments_lexer": "ipython3",
   "version": "3.9.12"
  }
 },
 "nbformat": 4,
 "nbformat_minor": 2
}
