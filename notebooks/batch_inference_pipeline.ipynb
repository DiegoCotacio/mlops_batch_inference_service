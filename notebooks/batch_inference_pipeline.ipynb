{
 "cells": [
  {
   "cell_type": "code",
   "execution_count": 23,
   "id": "6d729b0e",
   "metadata": {},
   "outputs": [],
   "source": [
    "import pandas as pd\n",
    "import requests"
   ]
  },
  {
   "cell_type": "code",
   "execution_count": 24,
   "id": "578c49fe",
   "metadata": {},
   "outputs": [],
   "source": [
    "# Cargar el archivo CSV\n",
    "file_path = 'insurance_test.csv'\n",
    "file_upload = open(file_path, 'rb')"
   ]
  },
  {
   "cell_type": "code",
   "execution_count": 25,
   "id": "fbe25557",
   "metadata": {},
   "outputs": [],
   "source": [
    "API_URL = 'https://66zl2vyt7uvasnujluqwmdfepy0pciao.lambda-url.us-east-2.on.aws/'\n",
    "BATCH_PREDICT_ENDPOINT = '/batch_predict'\n",
    "\n",
    "def predict(file_path):\n",
    "    file_upload = open(file_path, 'rb')\n",
    "\n",
    "    response = requests.post(API_URL + BATCH_PREDICT_ENDPOINT, files={'file': file_upload})\n",
    "\n",
    "    if response.status_code == 200:\n",
    "        data = response.json()\n",
    "        df = pd.DataFrame(data)\n",
    "        return df\n",
    "    else:\n",
    "        print(\"Error al realizar las estimaciones\")\n",
    "        return None\n",
    "                    \n",
    "                    "
   ]
  },
  {
   "cell_type": "code",
   "execution_count": 26,
   "id": "e30c7d7c",
   "metadata": {},
   "outputs": [
    {
     "name": "stdout",
     "output_type": "stream",
     "text": [
      "   age     sex     bmi  children smoker     region  prediction_label\n",
      "0   19  female  27.900         0    yes  southwest      34737.730469\n",
      "1   18    male  33.770         1     no  southeast       5070.954590\n",
      "2   28    male  33.000         3     no  southeast      11287.140625\n",
      "3   33    male  22.705         0     no  northwest      13613.296875\n",
      "4   32    male  28.880         0     no  northwest      14058.792969\n",
      "5   31  female  25.740         0     no  southeast      12271.961914\n"
     ]
    }
   ],
   "source": [
    "result_df = predict(file_path)\n",
    "\n",
    "if result_df is not None:\n",
    "    print(result_df)"
   ]
  },
  {
   "cell_type": "code",
   "execution_count": 28,
   "id": "6b0c3f43",
   "metadata": {},
   "outputs": [
    {
     "data": {
      "text/plain": [
       "age                   int64\n",
       "sex                  object\n",
       "bmi                 float64\n",
       "children              int64\n",
       "smoker               object\n",
       "region               object\n",
       "prediction_label    float64\n",
       "dtype: object"
      ]
     },
     "execution_count": 28,
     "metadata": {},
     "output_type": "execute_result"
    }
   ],
   "source": [
    "result_df.dtypes"
   ]
  },
  {
   "cell_type": "code",
   "execution_count": null,
   "id": "79e1c28e",
   "metadata": {},
   "outputs": [],
   "source": []
  },
  {
   "cell_type": "code",
   "execution_count": null,
   "id": "28f92bbf",
   "metadata": {},
   "outputs": [],
   "source": []
  },
  {
   "cell_type": "code",
   "execution_count": null,
   "id": "cc020a50",
   "metadata": {},
   "outputs": [],
   "source": []
  },
  {
   "cell_type": "code",
   "execution_count": null,
   "id": "4252b15c",
   "metadata": {},
   "outputs": [],
   "source": []
  },
  {
   "cell_type": "code",
   "execution_count": null,
   "id": "e064f903",
   "metadata": {},
   "outputs": [],
   "source": []
  }
 ],
 "metadata": {
  "kernelspec": {
   "display_name": "Python 3 (ipykernel)",
   "language": "python",
   "name": "python3"
  },
  "language_info": {
   "codemirror_mode": {
    "name": "ipython",
    "version": 3
   },
   "file_extension": ".py",
   "mimetype": "text/x-python",
   "name": "python",
   "nbconvert_exporter": "python",
   "pygments_lexer": "ipython3",
   "version": "3.9.12"
  }
 },
 "nbformat": 4,
 "nbformat_minor": 5
}
